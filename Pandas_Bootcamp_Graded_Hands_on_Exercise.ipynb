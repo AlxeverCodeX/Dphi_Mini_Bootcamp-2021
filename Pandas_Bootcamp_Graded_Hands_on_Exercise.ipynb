{
  "nbformat": 4,
  "nbformat_minor": 0,
  "metadata": {
    "colab": {
      "name": "Pandas Bootcamp Graded Hands-on Exercise.ipynb",
      "provenance": [],
      "include_colab_link": true
    },
    "kernelspec": {
      "name": "python3",
      "display_name": "Python 3"
    },
    "language_info": {
      "name": "python"
    }
  },
  "cells": [
    {
      "cell_type": "markdown",
      "metadata": {
        "id": "view-in-github",
        "colab_type": "text"
      },
      "source": [
        "<a href=\"https://colab.research.google.com/github/AlxeverCodeX/Dphi_Mini_Bootcamp-2021/blob/main/Pandas_Bootcamp_Graded_Hands_on_Exercise.ipynb\" target=\"_parent\"><img src=\"https://colab.research.google.com/assets/colab-badge.svg\" alt=\"Open In Colab\"/></a>"
      ]
    },
    {
      "cell_type": "markdown",
      "metadata": {
        "id": "Gvll069tUh4v"
      },
      "source": [
        "##Overview\n",
        "\n",
        "Dear Learner, \n",
        "\n",
        "Congratulations, you have studied Pandas all the way through the end of this bootcamp!!! This is the final graded hands-on exercise where you will be accomplishing the below mentioned task.\n",
        "\n",
        "For the tasks, we'll be using the COVID-19 Data Repository by the Center for Systems Science and Engineering (CSSE) at Johns Hopkins University. You can find the orginal dataset here: https://github.com/CSSEGISandData/COVID-19\n",
        "\n",
        "\n",
        "**Dataset Link**: https://raw.githubusercontent.com/dphi-official/Datasets/master/covid_19_data.csv\n",
        "\n",
        "**Resources**: You may consider referring to this resource while solving this project: https://www.learndatasci.com/tutorials/python-pandas-tutorial-complete-introduction-for-beginners/\n",
        "\n"
      ]
    },
    {
      "cell_type": "markdown",
      "metadata": {
        "id": "dvPOOlTFeejl"
      },
      "source": [
        "**Information about the dataset:**\n",
        "\n",
        "There are 8 features:\n",
        "\n",
        "* SNo: Serial number\n",
        "* ObservationDate: Date of observation of the cases (format: MM/DD/YYYY)\n",
        "* Province/State: Province or State of the country where cases were observed\n",
        "* Country/Region: Country where cases were observed\n",
        "* Last Update: Time in UTC at which the row is updated for the given province or country. (It is not in a standard format)\n",
        "* Confirmed: Cumulative number of confirmed cases till the date\n",
        "* Deaths: Cumulative number of deaths till the date\n",
        "* Recovered: Cumulative number of recovered cases till date"
      ]
    },
    {
      "cell_type": "markdown",
      "metadata": {
        "id": "A_JNx02DemVy"
      },
      "source": [
        "**Instruction for the learner:** \n",
        "* Recommended to revise 'groupby()' method of pandas\n",
        "* Recommended to understand the word **'Cummulative'** properly for three features - 'Confirmed', 'Recovered' and 'Deaths'.\n",
        "* Please note that the dtype of datetime columns are of object, convert them to datetime as shown below:"
      ]
    },
    {
      "cell_type": "markdown",
      "metadata": {
        "id": "GejbyYGQUrpN"
      },
      "source": [
        "###**Task 1**\n",
        "\n",
        "* Read the dataset and name is as `df`\n",
        "* Print first 10 observations of the dataset\n",
        "* Check for the data types of the all the variables in the dataset\n",
        "* Convert columns ['ObservationDate'] and ['Last Update'] to from object to datatime data type.\n"
      ]
    },
    {
      "cell_type": "markdown",
      "metadata": {
        "id": "9JfuOyUAWA6e"
      },
      "source": [
        "### **Task 2**\n",
        "* Create a subset of the data `df`, only taking observations which was **last updated** on **2020-06-13 03:33:14** and name this dataframe as **updated_data**. \n",
        "* Print the total no. of observations and unique country records in **updated_data**\n"
      ]
    },
    {
      "cell_type": "markdown",
      "metadata": {
        "id": "Sdcu_ll4WRCz"
      },
      "source": [
        "### **Task 3**\n",
        "* Create a subset of data from the dataframe **updated_data**, only taking the top 10 countries which have the maximum number of confirmed cases with features - **'Country/Region', 'Confirmed', 'Deaths' and 'Recovered'**. Name this dataframe as 'top_10'\n",
        "\n",
        "* print the name of the countries in 'top_10' dataset\n",
        "* Which country has the lowest number of confirmed cases among the ten countries in top_10 dataframe?\n",
        "Hint: use groupby() to group all the observations with same country, sum all the observations and then sort the dataframe by confirmed cases."
      ]
    },
    {
      "cell_type": "markdown",
      "metadata": {
        "id": "nhfzHXPFWd-s"
      },
      "source": [
        "### **Task 4**\n",
        "* Add two columns in 'top_10' dataframe - 'Recovered_percentage' and 'Deaths_percentage' \n",
        "\n",
        "where\n",
        "\n",
        "'Recovered_percentage' = (Recovered cases / Confirmed cases) * 100\n",
        "\n",
        "'Death_percentage' = (Deaths cases / Confirmed cases) * 100\n",
        "\n",
        "* Print the top 3 countries with highest recovery precent"
      ]
    },
    {
      "cell_type": "markdown",
      "metadata": {
        "id": "M59pRLv58MoO"
      },
      "source": [
        "##**Scores**\n",
        "\n",
        "Each of the tasks is of 5 mark each and the scores will be given accordingly after the notebook review."
      ]
    }
  ]
}